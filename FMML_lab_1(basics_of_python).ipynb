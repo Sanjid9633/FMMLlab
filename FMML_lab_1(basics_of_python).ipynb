{
  "nbformat": 4,
  "nbformat_minor": 0,
  "metadata": {
    "colab": {
      "provenance": [],
      "authorship_tag": "ABX9TyPt9n2Gq5r0Q4alNK4Wm5Dx",
      "include_colab_link": true
    },
    "kernelspec": {
      "name": "python3",
      "display_name": "Python 3"
    },
    "language_info": {
      "name": "python"
    }
  },
  "cells": [
    {
      "cell_type": "markdown",
      "metadata": {
        "id": "view-in-github",
        "colab_type": "text"
      },
      "source": [
        "<a href=\"https://colab.research.google.com/github/Sanjid9633/FMMLlab/blob/main/FMML_lab_1(basics_of_python).ipynb\" target=\"_parent\"><img src=\"https://colab.research.google.com/assets/colab-badge.svg\" alt=\"Open In Colab\"/></a>"
      ]
    },
    {
      "cell_type": "markdown",
      "source": [
        "QUESTION 0:\n",
        "write down 3-5 methods applicable to each data type.\n"
      ],
      "metadata": {
        "id": "Hpxn80kV_tQ0"
      }
    },
    {
      "cell_type": "code",
      "source": [
        "#1 LISTS\n",
        "\n",
        "list_1=[5,15,10]\n",
        "\n",
        "#1.1 index\n",
        "p=list_1.index(10)\n",
        "print(p)\n",
        "#1.2 sort\n",
        "list_1.sort()\n",
        "print(list_1)\n",
        "#1.3 insert\n",
        "list_1.insert(2,9)\n",
        "print(list_1)\n",
        "\n"
      ],
      "metadata": {
        "colab": {
          "base_uri": "https://localhost:8080/"
        },
        "id": "6NNw8b24BFmu",
        "outputId": "36b23f55-57dc-45af-ec2b-140c598cb9d3"
      },
      "execution_count": 2,
      "outputs": [
        {
          "output_type": "stream",
          "name": "stdout",
          "text": [
            "2\n",
            "[5, 10, 15]\n",
            "[5, 10, 9, 15]\n"
          ]
        }
      ]
    },
    {
      "cell_type": "code",
      "source": [
        "#2 TUPLES\n",
        "\n",
        "tuple_1=(1,3,5,5)\n",
        "\n",
        "#2.1 count\n",
        "print(tuple_1.count(5))\n",
        "\n",
        "#2.2 concatenation\n",
        "t2= (7,11)\n",
        "t3= t2+tuple_1\n",
        "print(t3)\n",
        "\n",
        "#2.3 repeating\n",
        "print(tuple_1*2)\n",
        "\n"
      ],
      "metadata": {
        "colab": {
          "base_uri": "https://localhost:8080/"
        },
        "id": "qMztzEZHDeKY",
        "outputId": "704d4f83-5d26-4221-a5cd-463e5aa9a211"
      },
      "execution_count": 3,
      "outputs": [
        {
          "output_type": "stream",
          "name": "stdout",
          "text": [
            "2\n",
            "(7, 11, 1, 3, 5, 5)\n",
            "(1, 3, 5, 5, 1, 3, 5, 5)\n"
          ]
        }
      ]
    },
    {
      "cell_type": "code",
      "source": [
        "#3 SETS\n",
        "set1={2,4,6,8}\n",
        "\n",
        "#3.1 add\n",
        "set1.add(10)\n",
        "print(set1)\n",
        "\n",
        "#3.2  union\n",
        "set2={12,14,16,18}\n",
        "print(set1.union(set2))\n",
        "\n",
        "#3.3  remove\n",
        "set1.remove(10)\n",
        "print(set1)\n",
        "\n"
      ],
      "metadata": {
        "colab": {
          "base_uri": "https://localhost:8080/"
        },
        "id": "UQe8Wph_GJDJ",
        "outputId": "ba3363b0-e25b-4aef-970d-0b8df23d9945"
      },
      "execution_count": 4,
      "outputs": [
        {
          "output_type": "stream",
          "name": "stdout",
          "text": [
            "{2, 4, 6, 8, 10}\n",
            "{2, 4, 6, 8, 10, 12, 14, 16, 18}\n",
            "{2, 4, 6, 8}\n"
          ]
        }
      ]
    },
    {
      "cell_type": "code",
      "source": [
        "#4 DICTIONARY\n",
        "d1={1:'a',2:'b',3:'c'}\n",
        "\n",
        "#4.1 adding\n",
        "d1[4]='d'\n",
        "print(d1)\n",
        "\n",
        "#4.2 get\n",
        "input=d1.get(2)\n",
        "print(input)\n",
        "\n",
        "#4.3 item listing\n",
        "list(d1.items())"
      ],
      "metadata": {
        "colab": {
          "base_uri": "https://localhost:8080/"
        },
        "id": "1BQk9M7PHk7x",
        "outputId": "0a1d700a-c327-449f-e61d-07881a12b903"
      },
      "execution_count": 10,
      "outputs": [
        {
          "output_type": "stream",
          "name": "stdout",
          "text": [
            "{1: 'a', 2: 'b', 3: 'c', 4: 'd'}\n",
            "b\n"
          ]
        },
        {
          "output_type": "execute_result",
          "data": {
            "text/plain": [
              "[(1, 'a'), (2, 'b'), (3, 'c'), (4, 'd')]"
            ]
          },
          "metadata": {},
          "execution_count": 10
        }
      ]
    },
    {
      "cell_type": "markdown",
      "source": [
        "QUESTION 1: Define a function, which takes in two strings A and B. Reverses the first string A, adds it to B, and returns the final string."
      ],
      "metadata": {
        "id": "_3sfQ7bILAit"
      }
    },
    {
      "cell_type": "code",
      "source": [
        "def reverse_string(a):\n",
        "    reversed_a = \"\"\n",
        "    for char in a:\n",
        "        reversed_a = char + reversed_a\n",
        "   return reversed_a\n",
        "\n",
        "def rev_and_add(a, b):\n",
        "    reversed_a = reverse_string(a)\n",
        "    result = reversed_a + b\n",
        "    return result\n",
        "\n",
        "A =\"abcxyz\"\n",
        "B = \" is my name\"\n",
        "result = rev_and_add(A,B)\n",
        "print(result)\n"
      ],
      "metadata": {
        "colab": {
          "base_uri": "https://localhost:8080/"
        },
        "id": "g_n2haNyLIRh",
        "outputId": "f58ee7f7-ed79-4f02-b549-4934ef6f4c64"
      },
      "execution_count": 11,
      "outputs": [
        {
          "output_type": "stream",
          "name": "stdout",
          "text": [
            "zyxcba is my name\n"
          ]
        }
      ]
    },
    {
      "cell_type": "markdown",
      "source": [
        "QUESTION 2:Given a list having Names, work_hours, and gender, Write a function to print name of the female worker that worked the most hours. Also how much do should she be paid if the pay is $ 20 per hour.\n",
        "work_hours = [('Abby',100 , 'F'),('Billy',400, 'M'),('Cassie',800,'F'), ('Maggi',600,'F'),('Alex',500,'M'),('Raj',225,'M'),('Penny',920,'F'),('Ben',300,'M')]"
      ],
      "metadata": {
        "id": "Pd3kl4SrRj1m"
      }
    },
    {
      "cell_type": "code",
      "source": [
        "work_hours = [('Abby', 100, 'F'), ('Billy', 400, 'M'), ('Cassie', 800, 'F'), ('Maggi', 600, 'F'),\n",
        "              ('Alex', 500, 'M'), ('Raj', 225, 'M'), ('Penny', 920, 'F'), ('Ben', 300, 'M')]\n",
        "\n",
        "\n",
        "\n",
        "def highest_paid_female(work_hours):\n",
        "    female_workers = [(name, hours) for name, hours, gender in work_hours if gender == 'F']\n",
        "    max_hours = max(female_workers, key=lambda x: x[1])\n",
        "    name, hours = max_hours\n",
        "    pay = 20\n",
        "    total_pay = hours *pay\n",
        "    return name, total_pay\n",
        "\n",
        "\n",
        "\n",
        "\n",
        "result = highest_paid_female(work_hours)\n",
        "if isinstance(result, tuple):\n",
        "    name, total_pay = result\n",
        "    print(f\"The female worker who worked the most hours is {name}, and she should be paid ${total_pay}.\")"
      ],
      "metadata": {
        "colab": {
          "base_uri": "https://localhost:8080/"
        },
        "id": "mWUi231QbOUO",
        "outputId": "a01df82c-3db6-48e6-8cd7-fe158a181f69"
      },
      "execution_count": 12,
      "outputs": [
        {
          "output_type": "stream",
          "name": "stdout",
          "text": [
            "The female worker who worked the most hours is Penny, and she should be paid $18400.\n"
          ]
        }
      ]
    }
  ]
}